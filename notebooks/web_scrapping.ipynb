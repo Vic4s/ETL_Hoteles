{
 "cells": [
  {
   "cell_type": "code",
   "execution_count": 19,
   "metadata": {},
   "outputs": [],
   "source": [
    "import pandas as pd \n",
    "\n",
    "from selenium import webdriver\n",
    "from selenium.webdriver.common.by import By\n",
    "from webdriver_manager.chrome import ChromeDriverManager\n",
    "from selenium.webdriver.chrome.service import Service\n",
    "from selenium.webdriver.chrome.options import Options\n",
    "\n",
    "from time import sleep\n",
    "\n",
    "from datetime import datetime\n"
   ]
  },
  {
   "cell_type": "code",
   "execution_count": 20,
   "metadata": {},
   "outputs": [],
   "source": [
    "# URL de la página de Wikipedia\n",
    "url = \"https://all.accor.com/ssr/app/accor/hotels/madrid-spain/open/index.es.shtml?compositions=1&stayplus=false&snu=false&hideWDR=false&accessibleRooms=false&hideHotelDetails=false&dateIn=2025-03-01&nights=1&destination=madrid-spain\"\n"
   ]
  },
  {
   "cell_type": "code",
   "execution_count": 21,
   "metadata": {},
   "outputs": [],
   "source": [
    "def hotel_scrapper(url):\n",
    "\n",
    "    # Inicializamos el WebDriver\n",
    "    service = Service(ChromeDriverManager().install())\n",
    "    options = Options()\n",
    "    options.add_argument(\"--start-maximized\")  \n",
    "    driver = webdriver.Chrome(service=service, options=options)\n",
    "    \n",
    "    driver.get(url)\n",
    "    sleep(10)\n",
    "\n",
    "    dictio_scrap_hotel = {\n",
    "        \"nombre\": [],\n",
    "        \"rating\": [],\n",
    "        \"precio_noche\": [],\n",
    "        \"fecha_reserva\": []\n",
    "    }\n",
    "\n",
    "    # Obtenemos la fecha actual\n",
    "    fecha = pd.Timestamp(datetime.today()).strftime('%Y-%m-%d')\n",
    "    fecha = pd.to_datetime(fecha)\n",
    "\n",
    "    # Obtenemos los elementos visibles\n",
    "    nombres_hoteles = driver.find_elements(By.CLASS_NAME, \"title\")\n",
    "\n",
    "    for i in range(len(nombres_hoteles)):\n",
    "        try:\n",
    "            nombre_hotel = nombres_hoteles[i].text\n",
    "            nombre_hotel = nombre_hotel.split(\"\\n\")[0]\n",
    "            dictio_scrap_hotel[\"nombre\"].append(nombre_hotel)\n",
    "        except:\n",
    "            dictio_scrap_hotel[\"nombre\"].append(\"No disponible\")\n",
    "\n",
    "        try:\n",
    "            rating_hotel = driver.find_elements(By.CLASS_NAME, \"ratings__score\")[i].text\n",
    "            rating_hotel = float(rating_hotel.split(\"/\")[0])\n",
    "            dictio_scrap_hotel[\"rating\"].append(rating_hotel)\n",
    "        except:\n",
    "            dictio_scrap_hotel[\"rating\"].append(\"No disponible\")\n",
    "        \n",
    "        try:\n",
    "            precio_hotel = driver.find_elements(By.CLASS_NAME, \"rate-details__price-wrapper\")[i].text\n",
    "            precio_hotel = int(precio_hotel.split(\"\\n\")[1].split(\"€\")[0])\n",
    "            dictio_scrap_hotel[\"precio_noche\"].append(precio_hotel)\n",
    "        except:\n",
    "            dictio_scrap_hotel[\"precio_noche\"].append(\"No disponible\")\n",
    "        \n",
    "        dictio_scrap_hotel[\"fecha_reserva\"].append(fecha)\n",
    "        \n",
    "    driver.close()\n",
    "    driver.quit()\n",
    "\n",
    "    df_hoteles_competencia = pd.DataFrame(dictio_scrap_hotel)\n",
    "\n",
    "    return df_hoteles_competencia\n",
    "    "
   ]
  },
  {
   "cell_type": "code",
   "execution_count": 22,
   "metadata": {},
   "outputs": [
    {
     "data": {
      "text/html": [
       "<div>\n",
       "<style scoped>\n",
       "    .dataframe tbody tr th:only-of-type {\n",
       "        vertical-align: middle;\n",
       "    }\n",
       "\n",
       "    .dataframe tbody tr th {\n",
       "        vertical-align: top;\n",
       "    }\n",
       "\n",
       "    .dataframe thead th {\n",
       "        text-align: right;\n",
       "    }\n",
       "</style>\n",
       "<table border=\"1\" class=\"dataframe\">\n",
       "  <thead>\n",
       "    <tr style=\"text-align: right;\">\n",
       "      <th></th>\n",
       "      <th>nombre</th>\n",
       "      <th>rating</th>\n",
       "      <th>precio_noche</th>\n",
       "      <th>fecha_reserva</th>\n",
       "    </tr>\n",
       "  </thead>\n",
       "  <tbody>\n",
       "    <tr>\n",
       "      <th>0</th>\n",
       "      <td>Novotel Madrid Center</td>\n",
       "      <td>4.6</td>\n",
       "      <td>255</td>\n",
       "      <td>2025-02-26</td>\n",
       "    </tr>\n",
       "    <tr>\n",
       "      <th>1</th>\n",
       "      <td>ibis budget Madrid Calle 30</td>\n",
       "      <td>4.4</td>\n",
       "      <td>110</td>\n",
       "      <td>2025-02-26</td>\n",
       "    </tr>\n",
       "    <tr>\n",
       "      <th>2</th>\n",
       "      <td>ibis budget Madrid Centro las Ventas</td>\n",
       "      <td>4.3</td>\n",
       "      <td>119</td>\n",
       "      <td>2025-02-26</td>\n",
       "    </tr>\n",
       "    <tr>\n",
       "      <th>3</th>\n",
       "      <td>Novotel Madrid City Las Ventas</td>\n",
       "      <td>4.6</td>\n",
       "      <td>173</td>\n",
       "      <td>2025-02-26</td>\n",
       "    </tr>\n",
       "    <tr>\n",
       "      <th>4</th>\n",
       "      <td>ibis budget Madrid Calle Alcalá</td>\n",
       "      <td>4.3</td>\n",
       "      <td>95</td>\n",
       "      <td>2025-02-26</td>\n",
       "    </tr>\n",
       "    <tr>\n",
       "      <th>5</th>\n",
       "      <td>ibis Madrid Calle Alcalá</td>\n",
       "      <td>4.5</td>\n",
       "      <td>119</td>\n",
       "      <td>2025-02-26</td>\n",
       "    </tr>\n",
       "    <tr>\n",
       "      <th>6</th>\n",
       "      <td>ibis budget Madrid Vallecas</td>\n",
       "      <td>4.3</td>\n",
       "      <td>107</td>\n",
       "      <td>2025-02-26</td>\n",
       "    </tr>\n",
       "    <tr>\n",
       "      <th>7</th>\n",
       "      <td>Pullman Madrid Airport &amp; Feria</td>\n",
       "      <td>4.2</td>\n",
       "      <td>129</td>\n",
       "      <td>2025-02-26</td>\n",
       "    </tr>\n",
       "    <tr>\n",
       "      <th>8</th>\n",
       "      <td>Novotel Madrid Campo de las Naciones</td>\n",
       "      <td>4.5</td>\n",
       "      <td>154</td>\n",
       "      <td>2025-02-26</td>\n",
       "    </tr>\n",
       "    <tr>\n",
       "      <th>9</th>\n",
       "      <td>ibis Madrid Aeropuerto Barajas</td>\n",
       "      <td>4.4</td>\n",
       "      <td>116</td>\n",
       "      <td>2025-02-26</td>\n",
       "    </tr>\n",
       "  </tbody>\n",
       "</table>\n",
       "</div>"
      ],
      "text/plain": [
       "                                 nombre  rating  precio_noche fecha_reserva\n",
       "0                 Novotel Madrid Center     4.6           255    2025-02-26\n",
       "1           ibis budget Madrid Calle 30     4.4           110    2025-02-26\n",
       "2  ibis budget Madrid Centro las Ventas     4.3           119    2025-02-26\n",
       "3        Novotel Madrid City Las Ventas     4.6           173    2025-02-26\n",
       "4       ibis budget Madrid Calle Alcalá     4.3            95    2025-02-26\n",
       "5              ibis Madrid Calle Alcalá     4.5           119    2025-02-26\n",
       "6           ibis budget Madrid Vallecas     4.3           107    2025-02-26\n",
       "7        Pullman Madrid Airport & Feria     4.2           129    2025-02-26\n",
       "8  Novotel Madrid Campo de las Naciones     4.5           154    2025-02-26\n",
       "9        ibis Madrid Aeropuerto Barajas     4.4           116    2025-02-26"
      ]
     },
     "execution_count": 22,
     "metadata": {},
     "output_type": "execute_result"
    }
   ],
   "source": [
    "df = hotel_scrapper(url)\n",
    "df"
   ]
  },
  {
   "cell_type": "code",
   "execution_count": 23,
   "metadata": {},
   "outputs": [
    {
     "name": "stdout",
     "output_type": "stream",
     "text": [
      "<class 'pandas.core.frame.DataFrame'>\n",
      "RangeIndex: 10 entries, 0 to 9\n",
      "Data columns (total 4 columns):\n",
      " #   Column         Non-Null Count  Dtype         \n",
      "---  ------         --------------  -----         \n",
      " 0   nombre         10 non-null     object        \n",
      " 1   rating         10 non-null     float64       \n",
      " 2   precio_noche   10 non-null     int64         \n",
      " 3   fecha_reserva  10 non-null     datetime64[ns]\n",
      "dtypes: datetime64[ns](1), float64(1), int64(1), object(1)\n",
      "memory usage: 452.0+ bytes\n"
     ]
    }
   ],
   "source": [
    "df.info()"
   ]
  },
  {
   "cell_type": "code",
   "execution_count": 24,
   "metadata": {},
   "outputs": [],
   "source": [
    "df.to_pickle(\"../data/web_scrapping/hoteles_competencia_info_scrapping.pkl\")"
   ]
  },
  {
   "cell_type": "markdown",
   "metadata": {},
   "source": [
    "# -- Pruebas --"
   ]
  },
  {
   "cell_type": "code",
   "execution_count": null,
   "metadata": {},
   "outputs": [],
   "source": [
    "# Inicializamos el WebDriver\n",
    "service = Service(ChromeDriverManager().install())\n",
    "options = Options()\n",
    "options.add_argument(\"--start-maximized\")  \n",
    "driver = webdriver.Chrome(service=service, options=options)"
   ]
  },
  {
   "cell_type": "code",
   "execution_count": null,
   "metadata": {},
   "outputs": [],
   "source": [
    "# Navegamos a la página\n",
    "driver.get(url)\n",
    "sleep(10)"
   ]
  },
  {
   "cell_type": "code",
   "execution_count": null,
   "metadata": {},
   "outputs": [],
   "source": [
    "dictio_scrap = {\n",
    "        \"nombre\": [],\n",
    "        \"rating\": [],\n",
    "        \"precio_noche\": [],\n",
    "        \"fecha_reserva\": []\n",
    "    }"
   ]
  },
  {
   "cell_type": "code",
   "execution_count": null,
   "metadata": {},
   "outputs": [],
   "source": [
    "nombre_hotel = driver.find_element(By.CLASS_NAME, \"title__link\").text\n",
    "nombre_hotel = nombre_hotel.split(\"\\n\")[0]\n",
    "dictio_scrap[\"nombre\"].append(nombre_hotel)"
   ]
  },
  {
   "cell_type": "code",
   "execution_count": null,
   "metadata": {},
   "outputs": [],
   "source": [
    "rating_hotel = driver.find_element(By.CLASS_NAME, \"ratings__score\").text\n",
    "rating_hotel = rating_hotel.split(\"/\\n\")[0]\n",
    "dictio_scrap[\"rating\"].append(rating_hotel)"
   ]
  },
  {
   "cell_type": "code",
   "execution_count": null,
   "metadata": {},
   "outputs": [],
   "source": [
    "precio_hotel = driver.find_element(By.CLASS_NAME, \"rate-details__price-wrapper\").text\n",
    "precio_hotel = precio_hotel.split(\"\\n\")[1].split(\"€\")[0]\n",
    "dictio_scrap[\"precio_noche\"].append(precio_hotel)\n"
   ]
  },
  {
   "cell_type": "code",
   "execution_count": null,
   "metadata": {},
   "outputs": [],
   "source": [
    "fecha = pd.Timestamp(datetime.today()).strftime('%Y-%m-%d')\n",
    "dictio_scrap[\"fecha_reserva\"].append(fecha)\n"
   ]
  },
  {
   "cell_type": "code",
   "execution_count": null,
   "metadata": {},
   "outputs": [
    {
     "data": {
      "text/plain": [
       "{'nombre': ['Novotel Madrid Center'],\n",
       " 'rating': ['4.6'],\n",
       " 'precio_noche': ['255'],\n",
       " 'fecha_reserva': ['2025-02-25']}"
      ]
     },
     "execution_count": 10,
     "metadata": {},
     "output_type": "execute_result"
    }
   ],
   "source": [
    "dictio_scrap"
   ]
  },
  {
   "cell_type": "code",
   "execution_count": null,
   "metadata": {},
   "outputs": [
    {
     "data": {
      "text/plain": [
       "[<selenium.webdriver.remote.webelement.WebElement (session=\"3ce9c1c8ffabaad3c787c1d574269f8f\", element=\"f.CE14995718BA26FFC8405D358FA78D23.d.A8E478354CB591B5C895BE7C96BAD8B3.e.73\")>,\n",
       " <selenium.webdriver.remote.webelement.WebElement (session=\"3ce9c1c8ffabaad3c787c1d574269f8f\", element=\"f.CE14995718BA26FFC8405D358FA78D23.d.A8E478354CB591B5C895BE7C96BAD8B3.e.74\")>,\n",
       " <selenium.webdriver.remote.webelement.WebElement (session=\"3ce9c1c8ffabaad3c787c1d574269f8f\", element=\"f.CE14995718BA26FFC8405D358FA78D23.d.A8E478354CB591B5C895BE7C96BAD8B3.e.75\")>,\n",
       " <selenium.webdriver.remote.webelement.WebElement (session=\"3ce9c1c8ffabaad3c787c1d574269f8f\", element=\"f.CE14995718BA26FFC8405D358FA78D23.d.A8E478354CB591B5C895BE7C96BAD8B3.e.76\")>,\n",
       " <selenium.webdriver.remote.webelement.WebElement (session=\"3ce9c1c8ffabaad3c787c1d574269f8f\", element=\"f.CE14995718BA26FFC8405D358FA78D23.d.A8E478354CB591B5C895BE7C96BAD8B3.e.77\")>,\n",
       " <selenium.webdriver.remote.webelement.WebElement (session=\"3ce9c1c8ffabaad3c787c1d574269f8f\", element=\"f.CE14995718BA26FFC8405D358FA78D23.d.A8E478354CB591B5C895BE7C96BAD8B3.e.78\")>,\n",
       " <selenium.webdriver.remote.webelement.WebElement (session=\"3ce9c1c8ffabaad3c787c1d574269f8f\", element=\"f.CE14995718BA26FFC8405D358FA78D23.d.A8E478354CB591B5C895BE7C96BAD8B3.e.79\")>,\n",
       " <selenium.webdriver.remote.webelement.WebElement (session=\"3ce9c1c8ffabaad3c787c1d574269f8f\", element=\"f.CE14995718BA26FFC8405D358FA78D23.d.A8E478354CB591B5C895BE7C96BAD8B3.e.80\")>,\n",
       " <selenium.webdriver.remote.webelement.WebElement (session=\"3ce9c1c8ffabaad3c787c1d574269f8f\", element=\"f.CE14995718BA26FFC8405D358FA78D23.d.A8E478354CB591B5C895BE7C96BAD8B3.e.81\")>,\n",
       " <selenium.webdriver.remote.webelement.WebElement (session=\"3ce9c1c8ffabaad3c787c1d574269f8f\", element=\"f.CE14995718BA26FFC8405D358FA78D23.d.A8E478354CB591B5C895BE7C96BAD8B3.e.82\")>]"
      ]
     },
     "execution_count": 11,
     "metadata": {},
     "output_type": "execute_result"
    }
   ],
   "source": [
    "nombres_hoteles = driver.find_elements(By.CLASS_NAME, \"title\") # Con \"title__link\" me sacaba 20 valores --> sacaba también el valor \"Ver el hotel\" por cada nombre de hotel\n",
    "nombres_hoteles"
   ]
  },
  {
   "cell_type": "code",
   "execution_count": null,
   "metadata": {},
   "outputs": [
    {
     "data": {
      "text/plain": [
       "10"
      ]
     },
     "execution_count": 12,
     "metadata": {},
     "output_type": "execute_result"
    }
   ],
   "source": [
    "len(nombres_hoteles)"
   ]
  },
  {
   "cell_type": "code",
   "execution_count": null,
   "metadata": {},
   "outputs": [
    {
     "data": {
      "text/plain": [
       "[<selenium.webdriver.remote.webelement.WebElement (session=\"3ce9c1c8ffabaad3c787c1d574269f8f\", element=\"f.CE14995718BA26FFC8405D358FA78D23.d.A8E478354CB591B5C895BE7C96BAD8B3.e.71\")>,\n",
       " <selenium.webdriver.remote.webelement.WebElement (session=\"3ce9c1c8ffabaad3c787c1d574269f8f\", element=\"f.CE14995718BA26FFC8405D358FA78D23.d.A8E478354CB591B5C895BE7C96BAD8B3.e.83\")>,\n",
       " <selenium.webdriver.remote.webelement.WebElement (session=\"3ce9c1c8ffabaad3c787c1d574269f8f\", element=\"f.CE14995718BA26FFC8405D358FA78D23.d.A8E478354CB591B5C895BE7C96BAD8B3.e.84\")>,\n",
       " <selenium.webdriver.remote.webelement.WebElement (session=\"3ce9c1c8ffabaad3c787c1d574269f8f\", element=\"f.CE14995718BA26FFC8405D358FA78D23.d.A8E478354CB591B5C895BE7C96BAD8B3.e.85\")>,\n",
       " <selenium.webdriver.remote.webelement.WebElement (session=\"3ce9c1c8ffabaad3c787c1d574269f8f\", element=\"f.CE14995718BA26FFC8405D358FA78D23.d.A8E478354CB591B5C895BE7C96BAD8B3.e.86\")>,\n",
       " <selenium.webdriver.remote.webelement.WebElement (session=\"3ce9c1c8ffabaad3c787c1d574269f8f\", element=\"f.CE14995718BA26FFC8405D358FA78D23.d.A8E478354CB591B5C895BE7C96BAD8B3.e.87\")>,\n",
       " <selenium.webdriver.remote.webelement.WebElement (session=\"3ce9c1c8ffabaad3c787c1d574269f8f\", element=\"f.CE14995718BA26FFC8405D358FA78D23.d.A8E478354CB591B5C895BE7C96BAD8B3.e.88\")>,\n",
       " <selenium.webdriver.remote.webelement.WebElement (session=\"3ce9c1c8ffabaad3c787c1d574269f8f\", element=\"f.CE14995718BA26FFC8405D358FA78D23.d.A8E478354CB591B5C895BE7C96BAD8B3.e.89\")>,\n",
       " <selenium.webdriver.remote.webelement.WebElement (session=\"3ce9c1c8ffabaad3c787c1d574269f8f\", element=\"f.CE14995718BA26FFC8405D358FA78D23.d.A8E478354CB591B5C895BE7C96BAD8B3.e.90\")>,\n",
       " <selenium.webdriver.remote.webelement.WebElement (session=\"3ce9c1c8ffabaad3c787c1d574269f8f\", element=\"f.CE14995718BA26FFC8405D358FA78D23.d.A8E478354CB591B5C895BE7C96BAD8B3.e.91\")>]"
      ]
     },
     "execution_count": 13,
     "metadata": {},
     "output_type": "execute_result"
    }
   ],
   "source": [
    "ratings_hoteles = driver.find_elements(By.CLASS_NAME, \"ratings__score\")\n",
    "ratings_hoteles"
   ]
  },
  {
   "cell_type": "code",
   "execution_count": null,
   "metadata": {},
   "outputs": [
    {
     "data": {
      "text/plain": [
       "10"
      ]
     },
     "execution_count": 14,
     "metadata": {},
     "output_type": "execute_result"
    }
   ],
   "source": [
    "len(ratings_hoteles)"
   ]
  },
  {
   "cell_type": "code",
   "execution_count": null,
   "metadata": {},
   "outputs": [
    {
     "data": {
      "text/plain": [
       "[<selenium.webdriver.remote.webelement.WebElement (session=\"3ce9c1c8ffabaad3c787c1d574269f8f\", element=\"f.CE14995718BA26FFC8405D358FA78D23.d.A8E478354CB591B5C895BE7C96BAD8B3.e.72\")>,\n",
       " <selenium.webdriver.remote.webelement.WebElement (session=\"3ce9c1c8ffabaad3c787c1d574269f8f\", element=\"f.CE14995718BA26FFC8405D358FA78D23.d.A8E478354CB591B5C895BE7C96BAD8B3.e.92\")>,\n",
       " <selenium.webdriver.remote.webelement.WebElement (session=\"3ce9c1c8ffabaad3c787c1d574269f8f\", element=\"f.CE14995718BA26FFC8405D358FA78D23.d.A8E478354CB591B5C895BE7C96BAD8B3.e.93\")>,\n",
       " <selenium.webdriver.remote.webelement.WebElement (session=\"3ce9c1c8ffabaad3c787c1d574269f8f\", element=\"f.CE14995718BA26FFC8405D358FA78D23.d.A8E478354CB591B5C895BE7C96BAD8B3.e.94\")>,\n",
       " <selenium.webdriver.remote.webelement.WebElement (session=\"3ce9c1c8ffabaad3c787c1d574269f8f\", element=\"f.CE14995718BA26FFC8405D358FA78D23.d.A8E478354CB591B5C895BE7C96BAD8B3.e.95\")>,\n",
       " <selenium.webdriver.remote.webelement.WebElement (session=\"3ce9c1c8ffabaad3c787c1d574269f8f\", element=\"f.CE14995718BA26FFC8405D358FA78D23.d.A8E478354CB591B5C895BE7C96BAD8B3.e.96\")>,\n",
       " <selenium.webdriver.remote.webelement.WebElement (session=\"3ce9c1c8ffabaad3c787c1d574269f8f\", element=\"f.CE14995718BA26FFC8405D358FA78D23.d.A8E478354CB591B5C895BE7C96BAD8B3.e.97\")>,\n",
       " <selenium.webdriver.remote.webelement.WebElement (session=\"3ce9c1c8ffabaad3c787c1d574269f8f\", element=\"f.CE14995718BA26FFC8405D358FA78D23.d.A8E478354CB591B5C895BE7C96BAD8B3.e.98\")>,\n",
       " <selenium.webdriver.remote.webelement.WebElement (session=\"3ce9c1c8ffabaad3c787c1d574269f8f\", element=\"f.CE14995718BA26FFC8405D358FA78D23.d.A8E478354CB591B5C895BE7C96BAD8B3.e.99\")>,\n",
       " <selenium.webdriver.remote.webelement.WebElement (session=\"3ce9c1c8ffabaad3c787c1d574269f8f\", element=\"f.CE14995718BA26FFC8405D358FA78D23.d.A8E478354CB591B5C895BE7C96BAD8B3.e.100\")>]"
      ]
     },
     "execution_count": 15,
     "metadata": {},
     "output_type": "execute_result"
    }
   ],
   "source": [
    "precios_hoteles = driver.find_elements(By.CLASS_NAME, \"rate-details__price-wrapper\")\n",
    "precios_hoteles"
   ]
  },
  {
   "cell_type": "code",
   "execution_count": null,
   "metadata": {},
   "outputs": [
    {
     "data": {
      "text/plain": [
       "10"
      ]
     },
     "execution_count": 16,
     "metadata": {},
     "output_type": "execute_result"
    }
   ],
   "source": [
    "len(precios_hoteles)"
   ]
  },
  {
   "cell_type": "code",
   "execution_count": null,
   "metadata": {},
   "outputs": [
    {
     "name": "stdout",
     "output_type": "stream",
     "text": [
      "{'nombre': ['Novotel Madrid Center', 'ibis budget Madrid Calle 30', 'ibis Madrid Centro las Ventas', 'ibis budget Madrid Centro las Ventas', 'Novotel Madrid City Las Ventas', 'ibis budget Madrid Calle Alcalá', 'ibis Madrid Calle Alcalá', 'ibis budget Madrid Vallecas', 'Pullman Madrid Airport & Feria', 'Novotel Madrid Campo de las Naciones'], 'rating': ['4.6', '4.4', '4.5', '4.3', '4.6', '4.3', '4.5', '4.3', '4.2', '4.5'], 'precio_noche': ['255', '110', '172', '119', '173', '95', '119', '107', '129', '154'], 'fecha_reserva': ['2025-02-25', '2025-02-25', '2025-02-25', '2025-02-25', '2025-02-25', '2025-02-25', '2025-02-25', '2025-02-25', '2025-02-25', '2025-02-25']}\n"
     ]
    }
   ],
   "source": [
    "dictio_scrap_hotel = {\n",
    "        \"nombre\": [],\n",
    "        \"rating\": [],\n",
    "        \"precio_noche\": [],\n",
    "        \"fecha_reserva\": []\n",
    "    }\n",
    "\n",
    "# Obtenemos la fecha actual\n",
    "fecha = pd.Timestamp(datetime.today()).strftime('%Y-%m-%d')\n",
    "\n",
    "# Obtenemos los elementos visibles\n",
    "nombres_hoteles = driver.find_elements(By.CLASS_NAME, \"title\")\n",
    "\n",
    "for i in range(len(nombres_hoteles)):\n",
    "    try:\n",
    "        nombre_hotel = nombres_hoteles[i].text\n",
    "        nombre_hotel = nombre_hotel.split(\"\\n\")[0]\n",
    "        dictio_scrap_hotel[\"nombre\"].append(nombre_hotel)\n",
    "    except:\n",
    "        dictio_scrap_hotel[\"nombre\"].append(\"No disponible\")\n",
    "\n",
    "    try:\n",
    "        rating_hotel = driver.find_elements(By.CLASS_NAME, \"ratings__score\")[i].text\n",
    "        rating_hotel = rating_hotel.split(\"/\")[0]\n",
    "        dictio_scrap_hotel[\"rating\"].append(rating_hotel)\n",
    "    except:\n",
    "        dictio_scrap_hotel[\"rating\"].append(\"No disponible\")\n",
    "    \n",
    "    try:\n",
    "        precio_hotel = driver.find_elements(By.CLASS_NAME, \"rate-details__price-wrapper\")[i].text\n",
    "        precio_hotel = precio_hotel.split(\"\\n\")[1].split(\"€\")[0]\n",
    "        dictio_scrap_hotel[\"precio_noche\"].append(precio_hotel)\n",
    "    except:\n",
    "        dictio_scrap_hotel[\"precio_noche\"].append(\"No disponible\")\n",
    "    \n",
    "    dictio_scrap_hotel[\"fecha_reserva\"].append(fecha)\n"
   ]
  },
  {
   "cell_type": "code",
   "execution_count": null,
   "metadata": {},
   "outputs": [],
   "source": [
    "dictio_scrap_hotel"
   ]
  },
  {
   "cell_type": "code",
   "execution_count": null,
   "metadata": {},
   "outputs": [],
   "source": [
    "driver.close()\n",
    "driver.quit()"
   ]
  }
 ],
 "metadata": {
  "kernelspec": {
   "display_name": "venv",
   "language": "python",
   "name": "python3"
  },
  "language_info": {
   "codemirror_mode": {
    "name": "ipython",
    "version": 3
   },
   "file_extension": ".py",
   "mimetype": "text/x-python",
   "name": "python",
   "nbconvert_exporter": "python",
   "pygments_lexer": "ipython3",
   "version": "3.12.5"
  }
 },
 "nbformat": 4,
 "nbformat_minor": 2
}
