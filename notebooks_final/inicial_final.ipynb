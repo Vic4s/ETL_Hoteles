{
 "cells": [
  {
   "cell_type": "code",
   "execution_count": 26,
   "metadata": {},
   "outputs": [
    {
     "ename": "ModuleNotFoundError",
     "evalue": "No module named 'ETL_HOTELES'",
     "output_type": "error",
     "traceback": [
      "\u001b[1;31m---------------------------------------------------------------------------\u001b[0m",
      "\u001b[1;31mModuleNotFoundError\u001b[0m                       Traceback (most recent call last)",
      "Cell \u001b[1;32mIn[26], line 3\u001b[0m\n\u001b[0;32m      1\u001b[0m \u001b[38;5;28;01mimport\u001b[39;00m\u001b[38;5;250m \u001b[39m\u001b[38;5;21;01mpandas\u001b[39;00m\u001b[38;5;250m \u001b[39m\u001b[38;5;28;01mas\u001b[39;00m\u001b[38;5;250m \u001b[39m\u001b[38;5;21;01mpd\u001b[39;00m\n\u001b[0;32m      2\u001b[0m \u001b[38;5;28;01mimport\u001b[39;00m\u001b[38;5;250m \u001b[39m\u001b[38;5;21;01mnumpy\u001b[39;00m\u001b[38;5;250m \u001b[39m\u001b[38;5;28;01mas\u001b[39;00m\u001b[38;5;250m \u001b[39m\u001b[38;5;21;01mnp\u001b[39;00m\n\u001b[1;32m----> 3\u001b[0m \u001b[38;5;28;01mfrom\u001b[39;00m\u001b[38;5;250m \u001b[39m\u001b[38;5;21;01mETL_HOTELES\u001b[39;00m\u001b[38;5;21;01m.\u001b[39;00m\u001b[38;5;21;01msrc\u001b[39;00m\u001b[38;5;250m \u001b[39m\u001b[38;5;28;01mimport\u001b[39;00m soporte_limpieza \u001b[38;5;28;01mas\u001b[39;00m sl\n\u001b[0;32m      4\u001b[0m pd\u001b[38;5;241m.\u001b[39mset_option(\u001b[38;5;124m'\u001b[39m\u001b[38;5;124mdisplay.max_columns\u001b[39m\u001b[38;5;124m'\u001b[39m, \u001b[38;5;28;01mNone\u001b[39;00m)\n\u001b[0;32m      6\u001b[0m \u001b[38;5;28;01mimport\u001b[39;00m\u001b[38;5;250m \u001b[39m\u001b[38;5;21;01mseaborn\u001b[39;00m\u001b[38;5;250m \u001b[39m\u001b[38;5;28;01mas\u001b[39;00m\u001b[38;5;250m \u001b[39m\u001b[38;5;21;01msns\u001b[39;00m\n",
      "\u001b[1;31mModuleNotFoundError\u001b[0m: No module named 'ETL_HOTELES'"
     ]
    }
   ],
   "source": [
    "import pandas as pd\n",
    "import numpy as np\n",
    "from ETL_HOTELES.src import soporte_limpieza as sl\n",
    "pd.set_option('display.max_columns', None)\n",
    "\n",
    "import seaborn as sns\n",
    "import matplotlib.pyplot as plt\n",
    "import matplotlib.dates as mdates\n"
   ]
  },
  {
   "cell_type": "markdown",
   "metadata": {},
   "source": [
    "# Fases:"
   ]
  },
  {
   "cell_type": "markdown",
   "metadata": {},
   "source": [
    "- Carga Dataset\n",
    "- Inspección\n",
    "- Nulos\n",
    "- Outliers"
   ]
  },
  {
   "cell_type": "markdown",
   "metadata": {},
   "source": [
    "### CARGA DATASET Y VISUALIZACIÓN"
   ]
  },
  {
   "cell_type": "code",
   "execution_count": 4,
   "metadata": {},
   "outputs": [],
   "source": [
    "df_raw = pd.read_parquet(\"../data/raw/reservas_hoteles.parquet\", engine = 'auto')"
   ]
  },
  {
   "cell_type": "markdown",
   "metadata": {},
   "source": [
    "### Generamos una copia para trabajar sobre ella y mantrener intacto el archivo original"
   ]
  },
  {
   "cell_type": "code",
   "execution_count": 5,
   "metadata": {},
   "outputs": [],
   "source": [
    "df = df_raw.copy()"
   ]
  },
  {
   "cell_type": "markdown",
   "metadata": {},
   "source": [
    "### Eliminamos duplicados exactos"
   ]
  },
  {
   "cell_type": "code",
   "execution_count": 6,
   "metadata": {},
   "outputs": [],
   "source": [
    "df.drop_duplicates(inplace=True)"
   ]
  },
  {
   "cell_type": "markdown",
   "metadata": {},
   "source": [
    "### Asignamos tipo de dato correctos a las columnas de fecha"
   ]
  },
  {
   "cell_type": "code",
   "execution_count": 8,
   "metadata": {},
   "outputs": [
    {
     "name": "stdout",
     "output_type": "stream",
     "text": [
      "Advertencia: En la columna 'fecha_reserva' se han asignado NaT en 5172 de 15000 registros (34.48 %).\n",
      "Advertencia: En la columna 'inicio_estancia' se han asignado NaT en 75 de 15000 registros (0.5 %).\n",
      "Advertencia: En la columna 'final_estancia' se han asignado NaT en 75 de 15000 registros (0.5 %).\n"
     ]
    }
   ],
   "source": [
    "columnas_a_datetime = [\"fecha_reserva\", \"inicio_estancia\", \"final_estancia\"]\n",
    "df = convertir_columnas_datetime(df, columnas_a_datetime)"
   ]
  },
  {
   "cell_type": "markdown",
   "metadata": {},
   "source": [
    "**2. Asegurar la unicidad del correo electrónico por cliente**  \n",
    "  \n",
    "\n",
    "    La forma más eficiente de reasignar los id_cliente sería asociándolo al mail, que debería ser único"
   ]
  },
  {
   "cell_type": "code",
   "execution_count": 9,
   "metadata": {},
   "outputs": [],
   "source": [
    "df['id_cliente'] = df.groupby('mail').ngroup() + 1"
   ]
  },
  {
   "cell_type": "markdown",
   "metadata": {},
   "source": [
    "SEPARAMOS LOS HOTELES PROPIOS Y DE LA COMPETENCIA EN DATAFRAMES DISTINTOS PARA TRANSFORMARLOS CADA UNO DE UNA MANERA"
   ]
  },
  {
   "cell_type": "code",
   "execution_count": 10,
   "metadata": {},
   "outputs": [],
   "source": [
    "df_competencia = df[df[\"competencia\"] == True] "
   ]
  },
  {
   "cell_type": "code",
   "execution_count": 11,
   "metadata": {},
   "outputs": [],
   "source": [
    "df_propios = df[df[\"competencia\"] == False] "
   ]
  },
  {
   "cell_type": "code",
   "execution_count": 12,
   "metadata": {},
   "outputs": [
    {
     "name": "stderr",
     "output_type": "stream",
     "text": [
      "C:\\Users\\victo\\AppData\\Local\\Temp\\ipykernel_25132\\3117162419.py:1: SettingWithCopyWarning: \n",
      "A value is trying to be set on a copy of a slice from a DataFrame.\n",
      "Try using .loc[row_indexer,col_indexer] = value instead\n",
      "\n",
      "See the caveats in the documentation: https://pandas.pydata.org/pandas-docs/stable/user_guide/indexing.html#returning-a-view-versus-a-copy\n",
      "  df_propios[\"id_hotel\"] = df_propios.groupby(\"nombre_hotel\").ngroup()+1\n"
     ]
    }
   ],
   "source": [
    "df_propios[\"id_hotel\"] = df_propios.groupby(\"nombre_hotel\").ngroup()+1"
   ]
  },
  {
   "cell_type": "code",
   "execution_count": 13,
   "metadata": {},
   "outputs": [
    {
     "name": "stderr",
     "output_type": "stream",
     "text": [
      "C:\\Users\\victo\\AppData\\Local\\Temp\\ipykernel_25132\\1608655818.py:1: SettingWithCopyWarning: \n",
      "A value is trying to be set on a copy of a slice from a DataFrame.\n",
      "Try using .loc[row_indexer,col_indexer] = value instead\n",
      "\n",
      "See the caveats in the documentation: https://pandas.pydata.org/pandas-docs/stable/user_guide/indexing.html#returning-a-view-versus-a-copy\n",
      "  df_propios[\"estrellas\"] = round(df_propios.groupby(\"id_hotel\")[\"estrellas\"].transform(\"mean\"),2)\n"
     ]
    }
   ],
   "source": [
    "df_propios[\"estrellas\"] = round(df_propios.groupby(\"id_hotel\")[\"estrellas\"].transform(\"mean\"),2)"
   ]
  },
  {
   "cell_type": "markdown",
   "metadata": {},
   "source": [
    "**PARA EVITAR RUIDO VAMOS A CAMBIAR EL NOMBRE DE LA COLUMNA A `valoracion`**"
   ]
  },
  {
   "cell_type": "code",
   "execution_count": 14,
   "metadata": {},
   "outputs": [
    {
     "name": "stderr",
     "output_type": "stream",
     "text": [
      "C:\\Users\\victo\\AppData\\Local\\Temp\\ipykernel_25132\\3208228328.py:1: SettingWithCopyWarning: \n",
      "A value is trying to be set on a copy of a slice from a DataFrame\n",
      "\n",
      "See the caveats in the documentation: https://pandas.pydata.org/pandas-docs/stable/user_guide/indexing.html#returning-a-view-versus-a-copy\n",
      "  df_propios.rename(columns={\"estrellas\": \"valoracion\"}, inplace=True)\n",
      "C:\\Users\\victo\\AppData\\Local\\Temp\\ipykernel_25132\\3208228328.py:2: SettingWithCopyWarning: \n",
      "A value is trying to be set on a copy of a slice from a DataFrame\n",
      "\n",
      "See the caveats in the documentation: https://pandas.pydata.org/pandas-docs/stable/user_guide/indexing.html#returning-a-view-versus-a-copy\n",
      "  df_competencia.rename(columns={\"estrellas\": \"valoracion\"}, inplace=True)\n"
     ]
    }
   ],
   "source": [
    "df_propios.rename(columns={\"estrellas\": \"valoracion\"}, inplace=True)\n",
    "df_competencia.rename(columns={\"estrellas\": \"valoracion\"}, inplace=True)"
   ]
  },
  {
   "cell_type": "code",
   "execution_count": 15,
   "metadata": {},
   "outputs": [],
   "source": [
    "df[\"ciudad\"] = df[\"ciudad\"].replace(\"\", \"Madrid\")"
   ]
  },
  {
   "cell_type": "markdown",
   "metadata": {},
   "source": [
    "# 2. NULOS"
   ]
  },
  {
   "cell_type": "code",
   "execution_count": 16,
   "metadata": {},
   "outputs": [
    {
     "name": "stderr",
     "output_type": "stream",
     "text": [
      "C:\\Users\\victo\\AppData\\Local\\Temp\\ipykernel_25132\\3908642250.py:3: SettingWithCopyWarning: \n",
      "A value is trying to be set on a copy of a slice from a DataFrame.\n",
      "Try using .loc[row_indexer,col_indexer] = value instead\n",
      "\n",
      "See the caveats in the documentation: https://pandas.pydata.org/pandas-docs/stable/user_guide/indexing.html#returning-a-view-versus-a-copy\n",
      "  df_propios[\"inicio_estancia\"] = df_propios[\"inicio_estancia\"].fillna(fecha_inicio)\n",
      "C:\\Users\\victo\\AppData\\Local\\Temp\\ipykernel_25132\\3908642250.py:6: SettingWithCopyWarning: \n",
      "A value is trying to be set on a copy of a slice from a DataFrame.\n",
      "Try using .loc[row_indexer,col_indexer] = value instead\n",
      "\n",
      "See the caveats in the documentation: https://pandas.pydata.org/pandas-docs/stable/user_guide/indexing.html#returning-a-view-versus-a-copy\n",
      "  df_propios[\"final_estancia\"] = df_propios[\"final_estancia\"].fillna(fecha_fin)\n",
      "C:\\Users\\victo\\AppData\\Local\\Temp\\ipykernel_25132\\3908642250.py:10: SettingWithCopyWarning: \n",
      "A value is trying to be set on a copy of a slice from a DataFrame.\n",
      "Try using .loc[row_indexer,col_indexer] = value instead\n",
      "\n",
      "See the caveats in the documentation: https://pandas.pydata.org/pandas-docs/stable/user_guide/indexing.html#returning-a-view-versus-a-copy\n",
      "  df_propios[\"precio_noche\"] = df_propios[\"precio_noche\"].fillna(\n"
     ]
    }
   ],
   "source": [
    "# Eliminar los valores nulos (NaT) y obtener el primer (y único valor)\n",
    "fecha_inicio = df_propios[\"inicio_estancia\"].dropna().unique()[0]\n",
    "df_propios[\"inicio_estancia\"] = df_propios[\"inicio_estancia\"].fillna(fecha_inicio)\n",
    "\n",
    "fecha_fin = df_propios[\"final_estancia\"].dropna().unique()[0]\n",
    "df_propios[\"final_estancia\"] = df_propios[\"final_estancia\"].fillna(fecha_fin)\n",
    "\n",
    "\n",
    "# Rellenar los valores nulos con la media del precio por cada hotel\n",
    "df_propios[\"precio_noche\"] = df_propios[\"precio_noche\"].fillna(\n",
    "    df_propios.groupby(\"nombre_hotel\")[\"precio_noche\"].transform(\"mean\")\n",
    "    )\n"
   ]
  },
  {
   "cell_type": "code",
   "execution_count": 17,
   "metadata": {},
   "outputs": [
    {
     "name": "stderr",
     "output_type": "stream",
     "text": [
      "C:\\Users\\victo\\AppData\\Local\\Temp\\ipykernel_25132\\2561489396.py:3: SettingWithCopyWarning: \n",
      "A value is trying to be set on a copy of a slice from a DataFrame.\n",
      "Try using .loc[row_indexer,col_indexer] = value instead\n",
      "\n",
      "See the caveats in the documentation: https://pandas.pydata.org/pandas-docs/stable/user_guide/indexing.html#returning-a-view-versus-a-copy\n",
      "  df_competencia[\"inicio_estancia\"] = df_competencia[\"inicio_estancia\"].fillna(fecha_inicio)\n",
      "C:\\Users\\victo\\AppData\\Local\\Temp\\ipykernel_25132\\2561489396.py:6: SettingWithCopyWarning: \n",
      "A value is trying to be set on a copy of a slice from a DataFrame.\n",
      "Try using .loc[row_indexer,col_indexer] = value instead\n",
      "\n",
      "See the caveats in the documentation: https://pandas.pydata.org/pandas-docs/stable/user_guide/indexing.html#returning-a-view-versus-a-copy\n",
      "  df_competencia[\"final_estancia\"] = df_competencia[\"final_estancia\"].fillna(fecha_fin)\n"
     ]
    }
   ],
   "source": [
    "# Eliminar los valores nulos (NaT) y obtener el primer (y único valor)\n",
    "fecha_inicio = df_competencia[\"inicio_estancia\"].dropna().unique()[0]\n",
    "df_competencia[\"inicio_estancia\"] = df_competencia[\"inicio_estancia\"].fillna(fecha_inicio)\n",
    "\n",
    "fecha_fin = df_competencia[\"final_estancia\"].dropna().unique()[0]\n",
    "df_competencia[\"final_estancia\"] = df_competencia[\"final_estancia\"].fillna(fecha_fin)"
   ]
  },
  {
   "cell_type": "markdown",
   "metadata": {},
   "source": [
    "### GUARDAMOS LOS DATAFRAMES"
   ]
  },
  {
   "cell_type": "code",
   "execution_count": 18,
   "metadata": {},
   "outputs": [],
   "source": [
    "df_propios.to_pickle(\"../data_2/limpieza/hoteles_propios_limpios.pkl\")"
   ]
  },
  {
   "cell_type": "code",
   "execution_count": 19,
   "metadata": {},
   "outputs": [],
   "source": [
    "df_competencia.to_pickle(\"../data_2/limpieza/hoteles_competencia.pkl\")"
   ]
  }
 ],
 "metadata": {
  "kernelspec": {
   "display_name": "venv",
   "language": "python",
   "name": "python3"
  },
  "language_info": {
   "codemirror_mode": {
    "name": "ipython",
    "version": 3
   },
   "file_extension": ".py",
   "mimetype": "text/x-python",
   "name": "python",
   "nbconvert_exporter": "python",
   "pygments_lexer": "ipython3",
   "version": "3.12.5"
  }
 },
 "nbformat": 4,
 "nbformat_minor": 2
}
